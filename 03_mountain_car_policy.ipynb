{
 "cells": [
  {
   "cell_type": "markdown",
   "metadata": {},
   "source": [
    "# Imports"
   ]
  },
  {
   "cell_type": "code",
   "execution_count": 1,
   "metadata": {},
   "outputs": [],
   "source": [
    "import gym\n",
    "import math\n",
    "import numpy as np\n",
    "from collections import deque\n",
    "import matplotlib.pyplot as plt\n",
    "%matplotlib inline\n",
    "\n",
    "import torch\n",
    "import torch.nn as nn\n",
    "import torch.nn.functional as F"
   ]
  },
  {
   "cell_type": "markdown",
   "metadata": {},
   "source": [
    "# Create the environment"
   ]
  },
  {
   "cell_type": "code",
   "execution_count": 2,
   "metadata": {},
   "outputs": [
    {
     "name": "stdout",
     "output_type": "stream",
     "text": [
      "\u001b[33mWARN: gym.spaces.Box autodetected dtype as <class 'numpy.float32'>. Please provide explicit dtype.\u001b[0m\n",
      "\u001b[33mWARN: gym.spaces.Box autodetected dtype as <class 'numpy.float32'>. Please provide explicit dtype.\u001b[0m\n",
      "observation space: Box(2,)\n",
      "action space: Box(1,)\n"
     ]
    }
   ],
   "source": [
    "device = torch.device(\"cuda:0\" if torch.cuda.is_available() else \"cpu\")\n",
    "\n",
    "env = gym.make('MountainCar-v0')\n",
    "\n",
    "print('observation space:', env.observation_space)\n",
    "print('action space:', env.action_space)"
   ]
  },
  {
   "cell_type": "markdown",
   "metadata": {},
   "source": [
    "# Run one episode"
   ]
  },
  {
   "cell_type": "code",
   "execution_count": 3,
   "metadata": {},
   "outputs": [],
   "source": [
    "class Agent(nn.Module):\n",
    "    def __init__(self, env, h_size=16):\n",
    "        # Function to initialize the environment using neural networks \n",
    "        super(Agent, self).__init__()\n",
    "        self.env = env\n",
    "        # Calculate the state, hidden layer and action sizes\n",
    "        self.s_size = env.observation_space.shape[0]\n",
    "        self.h_size = h_size\n",
    "        self.a_size = env.action_space.shape[0]\n",
    "        # Define layers in the neural network\n",
    "        self.fc1 = nn.Linear(self.s_size, self.h_size)\n",
    "        self.fc2 = nn.Linear(self.h_size, self.a_size)\n",
    "        \n",
    "    def set_weights(self, weights):\n",
    "        # Function to calculate the weights of the layers \n",
    "        s_size = self.s_size\n",
    "        h_size = self.h_size\n",
    "        a_size = self.a_size\n",
    "        # Calculate the weights for each layer\n",
    "        fc1_end = (s_size*h_size)+h_size\n",
    "        fc1_W = torch.from_numpy(weights[:s_size*h_size].reshape(s_size, h_size))\n",
    "        fc1_b = torch.from_numpy(weights[s_size*h_size:fc1_end])\n",
    "        fc2_W = torch.from_numpy(weights[fc1_end:fc1_end+(h_size*a_size)].reshape(h_size, a_size))\n",
    "        fc2_b = torch.from_numpy(weights[fc1_end+(h_size*a_size):])\n",
    "        # Set the weights for each layer\n",
    "        self.fc1.weight.data.copy_(fc1_W.view_as(self.fc1.weight.data))\n",
    "        self.fc1.bias.data.copy_(fc1_b.view_as(self.fc1.bias.data))\n",
    "        self.fc2.weight.data.copy_(fc2_W.view_as(self.fc2.weight.data))\n",
    "        self.fc2.bias.data.copy_(fc2_b.view_as(self.fc2.bias.data))\n",
    "    \n",
    "    def get_weights_dim(self):\n",
    "        return (self.s_size+1)*self.h_size + (self.h_size+1)*self.a_size\n",
    "        \n",
    "    def forward(self, x):\n",
    "        x = F.relu(self.fc1(x))\n",
    "        x = F.tanh(self.fc2(x))\n",
    "        return x.cpu().data\n",
    "        \n",
    "    def evaluate(self, weights, gamma=1.0, max_steps=5000):\n",
    "        # Function to evaluate the rewards\n",
    "        self.set_weights(weights)\n",
    "        episode_return = 0.0\n",
    "        state = self.env.reset()\n",
    "        # For every step in an episode, calculate the state, action and reward\n",
    "        for t in range(max_steps):\n",
    "            state = torch.from_numpy(state).float().to(device)\n",
    "            action = self.forward(state)\n",
    "            state, reward, done, _ = self.env.step(action)\n",
    "            episode_return += reward * math.pow(gamma, t)\n",
    "            if done:\n",
    "                break\n",
    "        return episode_return\n",
    "    \n",
    "agent = Agent(env).to(device)"
   ]
  },
  {
   "cell_type": "markdown",
   "metadata": {},
   "source": [
    "# Train the agent"
   ]
  },
  {
   "cell_type": "code",
   "execution_count": 4,
   "metadata": {
    "collapsed": false
   },
   "outputs": [
    {
     "name": "stderr",
     "output_type": "stream",
     "text": [
      "C:\\Users\\Chandu\\Desktop\\UCF\\Sem 1\\AAI\\OpenAI_FinalAss\\venv\\lib\\site-packages\\torch\\nn\\functional.py:995: UserWarning: nn.functional.tanh is deprecated. Use torch.tanh instead.\n",
      "  warnings.warn(\"nn.functional.tanh is deprecated. Use torch.tanh instead.\")\n"
     ]
    },
    {
     "name": "stdout",
     "output_type": "stream",
     "text": [
      "Episode 10\tAverage Score: -4.05\n",
      "Episode 20\tAverage Score: -12.36\n",
      "Episode 30\tAverage Score: -8.15\n",
      "Episode 40\tAverage Score: 5.97\n",
      "Episode 50\tAverage Score: 23.34\n",
      "Episode 60\tAverage Score: 35.35\n",
      "Episode 70\tAverage Score: 43.78\n",
      "Episode 80\tAverage Score: 50.04\n",
      "Episode 90\tAverage Score: 54.86\n",
      "Episode 100\tAverage Score: 58.63\n",
      "Episode 110\tAverage Score: 68.42\n",
      "Episode 120\tAverage Score: 79.83\n",
      "Episode 130\tAverage Score: 89.17\n",
      "\n",
      "Environment solved in 31 iterations!\tAverage Score: 90.48\n"
     ]
    }
   ],
   "source": [
    "def train_till_success(num_episodes=500, max_steps=1000, gamma=1.0, size=50, noise=0.5):\n",
    "    # num_episodes is maximum number of episodes\n",
    "    # max_steps is the maximum number of steps for each episode\n",
    "    # gamma is the discount rate\n",
    "    # size is the maximum size of population for each episode\n",
    "    # top_frac is the percentage of top performing episodes to use to train\n",
    "    # noise is the standard deviation of additive noise\n",
    "          \n",
    "    n_top=int(size*0.2) # 0.2: Considering that we use only top 2% of the winning episodes to train\n",
    "\n",
    "    scores_dq = deque(maxlen=100)  # Create a double ended queue of length 100\n",
    "    scores = [] # Create an array to store the rewards per episode\n",
    "    # Calculate the best weight as the product of noise and random weight generated by agent.get_weights_dim()\n",
    "    best_weight = noise*np.random.randn(agent.get_weights_dim())\n",
    "    \n",
    "    # For every episode, calculate the weight and rewards\n",
    "    for i_iteration in range(1, num_episodes+1):\n",
    "        weights_pop = [best_weight + (noise*np.random.randn(agent.get_weights_dim())) for x in range(size)]\n",
    "        rewards = np.array([agent.evaluate(weights, gamma, max_steps) for weights in weights_pop])\n",
    "        \n",
    "        # Calculate the top 2% rewards\n",
    "        top_idxs = rewards.argsort()[-n_top:]\n",
    "        # Calculate the top 2% weights\n",
    "        top_weights = [weights_pop[i] for i in top_idxs]\n",
    "        # Assign the mean value of top 2% weights to best_weight\n",
    "        best_weight = np.array(top_weights).mean(axis=0)\n",
    "        \n",
    "        # Evaluate the reward for the agent with the best_weight and discount rate gamma\n",
    "        reward = agent.evaluate(best_weight, gamma=1.0)\n",
    "        scores_dq.append(reward)    # Append the reward to the double ended queue scores_dq\n",
    "        scores.append(reward)   # Append the rewards to the array scores\n",
    "        \n",
    "        torch.save(agent.state_dict(), 'checkpoint.pth')    # Save the current state of the agent\n",
    "        \n",
    "        # Calculate and print the average score for every for every 10 episodes\n",
    "        if i_iteration % 10 == 0:\n",
    "            print('Episode {}\\tAverage Score: {:.2f}'.format(i_iteration, np.mean(scores_dq)))\n",
    "        \n",
    "        # Print the mean score for all the episodes\n",
    "        if np.mean(scores_dq)>=90.0:\n",
    "            print('\\nEnvironment solved in {:d} iterations!\\tAverage Score: {:.2f}'.format(i_iteration-100, np.mean(scores_dq)))\n",
    "            break\n",
    "    return scores   # Return the scores\n",
    "\n",
    "scores = train_till_success()\n"
   ]
  },
  {
   "cell_type": "markdown",
   "metadata": {},
   "source": [
    "# Plot the graph of scores"
   ]
  },
  {
   "cell_type": "code",
   "execution_count": 5,
   "metadata": {},
   "outputs": [
    {
     "data": {
      "image/png": "[encoded data removed]",
      "text/plain": [
       "<Figure size 432x288 with 1 Axes>"
      ]
     },
     "metadata": {
      "needs_background": "light"
     },
     "output_type": "display_data"
    }
   ],
   "source": [
    "# Plot the scores in a graph using the matplotlib object plt\n",
    "fig = plt.figure()\n",
    "ax = fig.add_subplot(111)\n",
    "plt.plot(np.arange(1, len(scores)+1), scores)\n",
    "plt.ylabel('Score')\n",
    "plt.xlabel('Episode')\n",
    "plt.show()\n",
    "env.close()"
   ]
  }
 ],
 "metadata": {
  "kernelspec": {
   "display_name": "Python 3",
   "language": "python",
   "name": "python3"
  },
  "language_info": {
   "codemirror_mode": {
    "name": "ipython",
    "version": 3
   },
   "file_extension": ".py",
   "mimetype": "text/x-python",
   "name": "python",
   "nbconvert_exporter": "python",
   "pygments_lexer": "ipython3",
   "version": "3.6.7"
  }
 },
 "nbformat": 4,
 "nbformat_minor": 2
}
