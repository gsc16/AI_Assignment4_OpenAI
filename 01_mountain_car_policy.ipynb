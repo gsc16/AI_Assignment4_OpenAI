{
 "cells": [
  {
   "cell_type": "markdown",
   "metadata": {},
   "source": [
    "# Imports"
   ]
  },
  {
   "cell_type": "code",
   "execution_count": 1,
   "metadata": {},
   "outputs": [],
   "source": [
    "import gym\n",
    "import math\n",
    "import numpy as np\n",
    "import matplotlib.pyplot as plt"
   ]
  },
  {
   "cell_type": "markdown",
   "metadata": {},
   "source": [
    "# Create environment"
   ]
  },
  {
   "cell_type": "code",
   "execution_count": 2,
   "metadata": {},
   "outputs": [
    {
     "name": "stdout",
     "output_type": "stream",
     "text": [
      "\u001b[33mWARN: gym.spaces.Box autodetected dtype as <class 'numpy.float32'>. Please provide explicit dtype.\u001b[0m\n",
      "Box(2,)\n"
     ]
    }
   ],
   "source": [
    "env = gym.make(\"MountainCar-v0\")\n",
    "print(env.observation_space)"
   ]
  },
  {
   "cell_type": "markdown",
   "metadata": {},
   "source": [
    "# Hyperparameters"
   ]
  },
  {
   "cell_type": "code",
   "execution_count": 3,
   "metadata": {},
   "outputs": [],
   "source": [
    "Q_table = np.zeros((20, 20, 3))\n",
    "alpha = 0.3\n",
    "buckets = [20, 20]\n",
    "gamma = 0.99\n",
    "rewards = []"
   ]
  },
  {
   "cell_type": "markdown",
   "metadata": {},
   "source": [
    "# Training and updating the Q-values"
   ]
  },
  {
   "cell_type": "code",
   "execution_count": 4,
   "metadata": {},
   "outputs": [],
   "source": [
    "def toDiscreteStates(observation):\n",
    "    interval = [0 for i in range(len(observation))]\n",
    "    max_range = [1.2, 0.07]  # [4.8,3.4*(10**38),0.42,3.4*(10**38)]\n",
    "\n",
    "    for i in range(len(observation)):\n",
    "        data = observation[i]\n",
    "        inter = int(math.floor((data + max_range[i]) / (2 * max_range[i] / buckets[i])))\n",
    "        if inter >= buckets[i]:\n",
    "            interval[i] = buckets[i] - 1\n",
    "        elif inter < 0:\n",
    "            interval[i] = 0\n",
    "        else:\n",
    "            interval[i] = inter\n",
    "    return interval"
   ]
  },
  {
   "cell_type": "code",
   "execution_count": 5,
   "metadata": {},
   "outputs": [],
   "source": [
    "def get_action(observation, t):\n",
    "    if np.random.random() < max(0.001, min(0.015, 1.0 - math.log10((t + 1) / 220.))):  # get_epsilon(t):\n",
    "        return env.action_space.sample()\n",
    "    interval = toDiscreteStates(observation)\n",
    "\n",
    "    # if Q_table[tuple(interval)][0] >=Q_table[tuple(interval)][1]:\n",
    "    # \treturn 0\n",
    "    # else:\n",
    "    # \treturn 1\n",
    "    return np.argmax(np.array(Q_table[tuple(interval)]))"
   ]
  },
  {
   "cell_type": "code",
   "execution_count": 6,
   "metadata": {},
   "outputs": [],
   "source": [
    "def updateQ(observation, reward, action, ini_obs, t):\n",
    "    interval = toDiscreteStates(observation)\n",
    "\n",
    "    Q_next = max(Q_table[tuple(interval)])\n",
    "\n",
    "    ini_interval = toDiscreteStates(ini_obs)\n",
    "\n",
    "    Q_table[tuple(ini_interval)][action] += max(0.4, min(0.1, 1.0 - math.log10((t + 1) / 125.))) * (\n",
    "                reward + gamma * (Q_next) - Q_table[tuple(ini_interval)][action])"
   ]
  },
  {
   "cell_type": "code",
   "execution_count": 7,
   "metadata": {},
   "outputs": [
    {
     "data": {
      "image/png": "[encoded data removed]",
      "text/plain": [
       "<Figure size 432x288 with 1 Axes>"
      ]
     },
     "metadata": {
      "needs_background": "light"
     },
     "output_type": "display_data"
    }
   ],
   "source": [
    "for i_episode in range(1000):\n",
    "    observation = env.reset()\n",
    "    t = 0\n",
    "    while (True):\n",
    "        \n",
    "        action = get_action(observation, i_episode)\n",
    "        observation1, reward, done, info = env.step(action)\n",
    "        next_action = get_action(observation1,i_episode)\n",
    "        updateQ(observation1, reward, action, observation, t)\n",
    "        observation = observation1\n",
    "        action = next_action\n",
    "        t += 1\n",
    "        if done:\n",
    "            rewards.append(t + 1)\n",
    "            break\n",
    "\n",
    "plt.plot(rewards)\n",
    "plt.show()"
   ]
  }
 ],
 "metadata": {
  "kernelspec": {
   "display_name": "Python 3",
   "language": "python",
   "name": "python3"
  },
  "language_info": {
   "codemirror_mode": {
    "name": "ipython",
    "version": 3
   },
   "file_extension": ".py",
   "mimetype": "text/x-python",
   "name": "python",
   "nbconvert_exporter": "python",
   "pygments_lexer": "ipython3",
   "version": "3.6.7"
  }
 },
 "nbformat": 4,
 "nbformat_minor": 2
}
