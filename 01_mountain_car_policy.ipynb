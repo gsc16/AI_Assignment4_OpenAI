{
 "cells": [
  {
   "cell_type": "markdown",
   "metadata": {},
   "source": [
    "# Imports"
   ]
  },
  {
   "cell_type": "code",
   "execution_count": 1,
   "metadata": {},
   "outputs": [],
   "source": [
    "import gym\n",
    "import math\n",
    "import numpy as np\n",
    "import matplotlib.pyplot as plt"
   ]
  },
  {
   "cell_type": "markdown",
   "metadata": {},
   "source": [
    "# Create environment"
   ]
  },
  {
   "cell_type": "code",
   "execution_count": 2,
   "metadata": {},
   "outputs": [
    {
     "name": "stdout",
     "output_type": "stream",
     "text": [
      "\u001b[33mWARN: gym.spaces.Box autodetected dtype as <class 'numpy.float32'>. Please provide explicit dtype.\u001b[0m\n",
      "Box(2,)\n"
     ]
    }
   ],
   "source": [
    "env = gym.make(\"MountainCar-v0\")\n",
    "print(env.observation_space)"
   ]
  },
  {
   "cell_type": "markdown",
   "metadata": {},
   "source": [
    "# Hyperparameters"
   ]
  },
  {
   "cell_type": "code",
   "execution_count": 3,
   "metadata": {},
   "outputs": [],
   "source": [
    "# Create a Q-table to store the rewards\n",
    "Q_table = np.zeros((20, 20, 3)) # Initialize the q-table\n",
    "alpha = 0.3 # Initialize alpha value to 0.3\n",
    "buckets = [20, 20]  # Array to store actions\n",
    "gamma = 0.99    # Discount value\n",
    "rewards = [] # Array to store rewards"
   ]
  },
  {
   "cell_type": "markdown",
   "metadata": {},
   "source": [
    "# Training and updating the Q-values"
   ]
  },
  {
   "cell_type": "code",
   "execution_count": 4,
   "metadata": {},
   "outputs": [],
   "source": [
    "def toDiscreteStates(observation):\n",
    "    interval = [0 for i in range(len(observation))]\n",
    "    max_range = [1.2, 0.07]  \n",
    "\n",
    "    for i in range(len(observation)):\n",
    "        data = observation[i]\n",
    "        inter = int(math.floor((data + max_range[i]) / (2 * max_range[i] / buckets[i])))\n",
    "        if inter >= buckets[i]:\n",
    "            interval[i] = buckets[i] - 1\n",
    "        elif inter < 0:\n",
    "            interval[i] = 0\n",
    "        else:\n",
    "            interval[i] = inter\n",
    "    return interval\n",
    "\n",
    "def get_action(observation, t):\n",
    "    # Calculate the action for every episode\n",
    "    if np.random.random() < max(0.001, min(0.015, 1.0 - math.log10((t + 1) / 220.))):  \n",
    "        return env.action_space.sample()\n",
    "    interval = toDiscreteStates(observation)\n",
    "    return np.argmax(np.array(Q_table[tuple(interval)]))\n",
    "\n",
    "def updateQ(observation, reward, action, ini_obs, t):\n",
    "    # Update the observation, action and reward for every top performed episode\n",
    "    interval = toDiscreteStates(observation)\n",
    "\n",
    "    Q_next = max(Q_table[tuple(interval)])\n",
    "\n",
    "    ini_interval = toDiscreteStates(ini_obs)\n",
    "\n",
    "    Q_table[tuple(ini_interval)][action] += max(0.4, min(0.1, 1.0 - math.log10((t + 1) / 125.))) * (\n",
    "                reward + gamma * (Q_next) - Q_table[tuple(ini_interval)][action])"
   ]
  },
  {
   "cell_type": "markdown",
   "metadata": {},
   "source": [
    "# Train the agent"
   ]
  },
  {
   "cell_type": "code",
   "execution_count": 5,
   "metadata": {},
   "outputs": [],
   "source": [
    "# For every episode, calculate the action and reward \n",
    "for i_episode in range(1000):\n",
    "    observation = env.reset()\n",
    "    t = 0\n",
    "    while (True):\n",
    "        action = get_action(observation, i_episode)\n",
    "        observation1, reward, done, info = env.step(action)\n",
    "        next_action = get_action(observation1,i_episode)\n",
    "        updateQ(observation1, reward, action, observation, t)\n",
    "        observation = observation1\n",
    "        action = next_action\n",
    "        t += 1\n",
    "        if done:\n",
    "            rewards.append(t + 1)\n",
    "            break\n",
    "\n"
   ]
  },
  {
   "cell_type": "markdown",
   "metadata": {},
   "source": [
    "# Plot the graph of rewards"
   ]
  },
  {
   "cell_type": "code",
   "execution_count": 6,
   "metadata": {},
   "outputs": [
    {
     "data": {
      "image/png": "[encoded data removed]",
      "text/plain": [
       "<Figure size 432x288 with 1 Axes>"
      ]
     },
     "metadata": {
      "needs_background": "light"
     },
     "output_type": "display_data"
    }
   ],
   "source": [
    "plt.plot(rewards)\n",
    "plt.ylabel('Score')\n",
    "plt.xlabel('Episode')\n",
    "plt.show()\n",
    "env.close()"
   ]
  }
 ],
 "metadata": {
  "kernelspec": {
   "display_name": "Python 3",
   "language": "python",
   "name": "python3"
  },
  "language_info": {
   "codemirror_mode": {
    "name": "ipython",
    "version": 3
   },
   "file_extension": ".py",
   "mimetype": "text/x-python",
   "name": "python",
   "nbconvert_exporter": "python",
   "pygments_lexer": "ipython3",
   "version": "3.6.7"
  }
 },
 "nbformat": 4,
 "nbformat_minor": 2
}
