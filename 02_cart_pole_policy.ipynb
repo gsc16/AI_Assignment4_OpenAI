{
 "cells": [
  {
   "cell_type": "markdown",
   "metadata": {},
   "source": [
    "# Import Statements"
   ]
  },
  {
   "cell_type": "code",
   "execution_count": 1,
   "metadata": {},
   "outputs": [],
   "source": [
    "import gym\n",
    "import numpy as np\n",
    "from collections import deque\n",
    "import matplotlib.pyplot as plt"
   ]
  },
  {
   "cell_type": "markdown",
   "metadata": {},
   "source": [
    "# Create environment"
   ]
  },
  {
   "cell_type": "code",
   "execution_count": 2,
   "metadata": {},
   "outputs": [
    {
     "name": "stdout",
     "output_type": "stream",
     "text": [
      "observation space: Box(4,)\n",
      "action space: Discrete(2)\n"
     ]
    }
   ],
   "source": [
    "env = gym.make('CartPole-v1')\n",
    "print('observation space:', env.observation_space)\n",
    "print('action space:', env.action_space)"
   ]
  },
  {
   "cell_type": "markdown",
   "metadata": {},
   "source": [
    "# Define the initial parameters"
   ]
  },
  {
   "cell_type": "code",
   "execution_count": 3,
   "metadata": {},
   "outputs": [],
   "source": [
    "class Initialize():\n",
    "    def __init__(self):\n",
    "        self.w = 1e-4 * np.random.rand(4, 2)  # Calculate weight for simple linear policy: state_space x action_space\n",
    "\n",
    "    def forward(self, state):\n",
    "        x = np.dot(state, self.w)\n",
    "        return np.exp(x) / sum(np.exp(x))\n",
    "\n",
    "    def act(self, state):   # Calculate the action \n",
    "        probs = self.forward(state)\n",
    "        action = np.argmax(probs)  # option 2: deterministic policy\n",
    "        return action\n"
   ]
  },
  {
   "cell_type": "markdown",
   "metadata": {},
   "source": [
    "# Initialize the environment"
   ]
  },
  {
   "cell_type": "code",
   "execution_count": 4,
   "metadata": {},
   "outputs": [],
   "source": [
    "policy = Initialize()"
   ]
  },
  {
   "cell_type": "markdown",
   "metadata": {},
   "source": [
    "# Train the cartpole and execute"
   ]
  },
  {
   "cell_type": "code",
   "execution_count": 5,
   "metadata": {},
   "outputs": [
    {
     "name": "stdout",
     "output_type": "stream",
     "text": [
      "Episode 100\tAverage Score: 194.50\n",
      "Episode 200\tAverage Score: 186.16\n",
      "Environment solved in 265 episodes!\tAverage Score: 200.00\n"
     ]
    }
   ],
   "source": [
    "def hill_climbing(num_episodes=1000, max_steps=200, gamma=0.9, noise=1e-2):\n",
    "    # num_episodes is the maximum number of episodes\n",
    "    # max_steps is the maximum number of steps per episode\n",
    "    # gamma is the discount rate\n",
    "    # noise is the standard deviation of additive noise\n",
    "    \n",
    "    scores_dq = deque(maxlen=100)     # Create a double ended queue of length 100\n",
    "    scores = []     # Create an array to store the rewards per episode\n",
    "    best_R = -np.Inf    # Initialize the best reward as negative infinity\n",
    "    best_w = policy.w   # Initialize the best weight as the random weight calculated in the Initialize function\n",
    "    for i_episode in range(1, num_episodes + 1): \n",
    "        rewards = []    # Array to store the rewards for every episode\n",
    "        state = env.reset()\n",
    "        # For every step in the episode, calculate the state, reward and append reward to the array rewards\n",
    "        for t in range(max_steps):\n",
    "            action = policy.act(state)\n",
    "            state, reward, done, _ = env.step(action)\n",
    "            rewards.append(reward)\n",
    "            if done:\n",
    "                break\n",
    "        scores_dq.append(sum(rewards))   # Append the sum of rewards for every episode to the double queue scores_dq\n",
    "        scores.append(sum(rewards))  # Append the sum of rewards per episode to the array scores\n",
    "        \n",
    "        # Calculate the discount and reward for every episode\n",
    "        discounts = [gamma ** i for i in range(len(rewards) + 1)]\n",
    "        R = sum([a * b for a, b in zip(discounts, rewards)])\n",
    "        \n",
    "        # If reward of the episode is greater than best_R, then\n",
    "        # 1. Assign the reward to best_R. \n",
    "        # 2. Assign the  as weight of current policy as best weight\n",
    "        # 3. Calculate the noise as maximum of 0.001 and (noise/2) \n",
    "        # 4. Calculate the new weight for the policy\n",
    "        if R >= best_R:  \n",
    "            best_R = R\n",
    "            best_w = policy.w\n",
    "            noise = max(1e-3, noise / 2)\n",
    "            policy.w += noise * np.random.rand(*policy.w.shape)\n",
    "        # If reward of the episode is less than nest_R, calculate the noise as minimum of (2, noise*2). \n",
    "        # Add the best_weight to the policy weight\n",
    "        else:  \n",
    "            noise = min(2, noise * 2)\n",
    "            policy.w = best_w + noise * np.random.rand(*policy.w.shape)\n",
    "        # Print the average value for every 100 episodes\n",
    "        if i_episode % 100 == 0:\n",
    "            print('Episode {}\\tAverage Score: {:.2f}'.format(i_episode, np.mean(scores_dq)))\n",
    "        # If score is greater than 200, assign best_w to the weigh tof the policy; end execution and return the scores\n",
    "        if np.mean(scores_dq) >= 200.0:\n",
    "            print('Environment solved in {:d} episodes!\\tAverage Score: {:.2f}'.format(i_episode,\n",
    "                                                                                       np.mean(scores_dq)))\n",
    "            policy.w = best_w\n",
    "            break\n",
    "\n",
    "    return scores\n",
    "\n",
    "scores = hill_climbing()"
   ]
  },
  {
   "cell_type": "markdown",
   "metadata": {},
   "source": [
    "# Rendering the environment"
   ]
  },
  {
   "cell_type": "code",
   "execution_count": 6,
   "metadata": {},
   "outputs": [
    {
     "data": {
      "image/png": "[encoded data removed]",
      "text/plain": [
       "<Figure size 432x288 with 1 Axes>"
      ]
     },
     "metadata": {
      "needs_background": "light"
     },
     "output_type": "display_data"
    }
   ],
   "source": [
    "plt.plot(scores)\n",
    "plt.show()\n",
    "\n",
    "env.close()"
   ]
  }
 ],
 "metadata": {
  "kernelspec": {
   "display_name": "Python 3",
   "language": "python",
   "name": "python3"
  },
  "language_info": {
   "codemirror_mode": {
    "name": "ipython",
    "version": 3
   },
   "file_extension": ".py",
   "mimetype": "text/x-python",
   "name": "python",
   "nbconvert_exporter": "python",
   "pygments_lexer": "ipython3",
   "version": "3.6.7"
  }
 },
 "nbformat": 4,
 "nbformat_minor": 2
}
